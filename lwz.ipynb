{
 "cells": [
  {
   "cell_type": "markdown",
   "metadata": {},
   "source": [
    "## Decoder"
   ]
  },
  {
   "cell_type": "code",
   "execution_count": null,
   "metadata": {},
   "outputs": [],
   "source": [
    "import sys\n",
    "from sys import argv\n",
    "import struct\n",
    "from struct import *"
   ]
  },
  {
   "cell_type": "code",
   "execution_count": null,
   "metadata": {},
   "outputs": [],
   "source": [
    "input_file, n = argv[1:]            \n",
    "maximum_table_size = pow(2,int(n))\n",
    "file = open(input_file, \"rb\")\n",
    "compressed_data = []\n",
    "next_code = 256\n",
    "decompressed_data = \"\"\n",
    "string = \"\"\n",
    "\n",
    "# Reading the compressed file.\n",
    "while True:\n",
    "    rec = file.read(2)\n",
    "    if len(rec) != 2:\n",
    "        break\n",
    "    (data, ) = unpack('>H', rec)\n",
    "    compressed_data.append(data)\n",
    "\n",
    "# Building and initializing the dictionary.\n",
    "dictionary_size = 256\n",
    "dictionary = dict([(x, chr(x)) for x in range(dictionary_size)])\n",
    "\n",
    "# iterating through the codes.\n",
    "# LZW Decompression algorithm\n",
    "for code in compressed_data:\n",
    "    if not (code in dictionary):\n",
    "        dictionary[code] = string + (string[0])\n",
    "    decompressed_data += dictionary[code]\n",
    "    if not(len(string) == 0):\n",
    "        dictionary[next_code] = string + (dictionary[code][0])\n",
    "        next_code += 1\n",
    "    string = dictionary[code]\n",
    "\n",
    "# storing the decompressed string into a file.\n",
    "out = input_file.split(\".\")[0]\n",
    "output_file = open(out + \"_decoded.txt\", \"w\")\n",
    "for data in decompressed_data:\n",
    "    output_file.write(data)\n",
    "    \n",
    "output_file.close()\n",
    "file.close()"
   ]
  },
  {
   "cell_type": "markdown",
   "metadata": {},
   "source": [
    "## Encoder"
   ]
  },
  {
   "cell_type": "code",
   "execution_count": null,
   "metadata": {},
   "outputs": [],
   "source": [
    "input_file, n = argv[1:]                \n",
    "maximum_table_size = pow(2,int(n))      \n",
    "file = open(input_file)                 \n",
    "data = file.read()                      \n",
    "\n",
    "# Building and initializing the dictionary.\n",
    "dictionary_size = 256                   \n",
    "dictionary = {chr(i): i for i in range(dictionary_size)}    \n",
    "string = \"\"             # String is null.\n",
    "compressed_data = []    # variable to store the compressed data.\n",
    "\n",
    "# iterating through the input symbols.\n",
    "# LZW Compression algorithm\n",
    "for symbol in data:                     \n",
    "    string_plus_symbol = string + symbol # get input symbol.\n",
    "    if string_plus_symbol in dictionary: \n",
    "        string = string_plus_symbol\n",
    "    else:\n",
    "        compressed_data.append(dictionary[string])\n",
    "        if(len(dictionary) <= maximum_table_size):\n",
    "            dictionary[string_plus_symbol] = dictionary_size\n",
    "            dictionary_size += 1\n",
    "        string = symbol\n",
    "\n",
    "if string in dictionary:\n",
    "    compressed_data.append(dictionary[string])\n",
    "\n",
    "# storing the compressed string into a file (byte-wise).\n",
    "out = input_file.split(\".\")[0]\n",
    "output_file = open(out + \".lzw\", \"wb\")\n",
    "for data in compressed_data:\n",
    "    output_file.write(pack('>H',int(data)))\n",
    "    \n",
    "output_file.close()\n",
    "file.close()"
   ]
  }
 ],
 "metadata": {
  "kernelspec": {
   "display_name": "Python 3",
   "language": "python",
   "name": "python3"
  },
  "language_info": {
   "codemirror_mode": {
    "name": "ipython",
    "version": 3
   },
   "file_extension": ".py",
   "mimetype": "text/x-python",
   "name": "python",
   "nbconvert_exporter": "python",
   "pygments_lexer": "ipython3",
   "version": "3.11.3"
  }
 },
 "nbformat": 4,
 "nbformat_minor": 2
}
